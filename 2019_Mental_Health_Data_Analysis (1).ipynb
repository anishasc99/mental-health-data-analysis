{
  "cells": [
    {
      "cell_type": "code",
      "execution_count": 1,
      "metadata": {
        "id": "ldpUupya55t4"
      },
      "outputs": [],
      "source": [
        "import pandas as pd\n",
        "import numpy as np\n",
        "import matplotlib.pyplot as plt\n",
        "import seaborn as sns\n",
        "from sklearn.experimental import enable_iterative_imputer\n",
        "from sklearn.impute import IterativeImputer\n",
        "from sklearn.linear_model import LinearRegression\n",
        "from scipy.stats import chisquare\n",
        "from sklearn.preprocessing import OneHotEncoder\n",
        "from sklearn.model_selection import train_test_split\n",
        "import gc\n",
        "import lightgbm as lgbm\n",
        "from sklearn.utils import class_weight\n",
        "from sklearn.metrics import f1_score\n",
        "from sklearn.metrics import recall_score\n",
        "from sklearn.metrics import ConfusionMatrixDisplay\n",
        "from sklearn.preprocessing import RobustScaler\n",
        "from sklearn.metrics import classification_report\n",
        "from scipy import stats"
      ]
    },
    {
      "cell_type": "code",
      "execution_count": 2,
      "metadata": {
        "colab": {
          "base_uri": "https://localhost:8080/"
        },
        "id": "USP-8CKE3Bde",
        "outputId": "7525ae20-9321-4a33-f619-c27b93c27dd3"
      },
      "outputs": [
        {
          "output_type": "stream",
          "name": "stdout",
          "text": [
            "Mounted at /content/drive\n"
          ]
        }
      ],
      "source": [
        "from google.colab import drive\n",
        "drive.mount('/content/drive')"
      ]
    },
    {
      "cell_type": "code",
      "execution_count": 2,
      "metadata": {
        "id": "NiE-UgSI3DFR"
      },
      "outputs": [],
      "source": [
        "adult19_path = '/content/drive/MyDrive/NHIS-Datasets/adult19.csv'\n",
        "adult20long_path = '/content/drive/MyDrive/NHIS-Datasets/adult20long.csv'\n",
        "adult19 = pd.read_csv(adult19_path)\n",
        "adult20long = pd.read_csv(adult20long_path)"
      ]
    },
    {
      "cell_type": "code",
      "execution_count": 3,
      "metadata": {
        "colab": {
          "base_uri": "https://localhost:8080/"
        },
        "id": "HgeAxEb2-iem",
        "outputId": "64586852-4dae-41f0-eb23-08eb5226acc4"
      },
      "outputs": [
        {
          "output_type": "execute_result",
          "data": {
            "text/plain": [
              "(10415, 539)"
            ]
          },
          "metadata": {},
          "execution_count": 3
        }
      ],
      "source": [
        "adult19_new = pd.merge(adult20long, adult19, left_on = 'HHX_2019', right_on = 'HHX')\n",
        "adult19_new.shape"
      ]
    },
    {
      "cell_type": "markdown",
      "metadata": {
        "id": "2d3rGPap16EA"
      },
      "source": [
        "Remove columns with 100% null values"
      ]
    },
    {
      "cell_type": "code",
      "execution_count": 4,
      "metadata": {
        "colab": {
          "base_uri": "https://localhost:8080/"
        },
        "id": "oW64-F3h4ZKN",
        "outputId": "78612960-676c-4c65-ed49-524706609522"
      },
      "outputs": [
        {
          "output_type": "stream",
          "name": "stdout",
          "text": [
            "(10415, 531)\n",
            "Number of columns with null values = 364\n"
          ]
        }
      ],
      "source": [
        "data = adult19_new\n",
        "null_columns = data.columns[data.isna().any()].tolist()\n",
        "null_data = (100 * data[null_columns].isna().sum())/data.shape[0]\n",
        "drop_null_columns = []\n",
        "for column in null_columns:\n",
        "  if null_data[column] == 100:\n",
        "    drop_null_columns.append(column)\n",
        "adult19_new.drop(columns = drop_null_columns, inplace=True)\n",
        "columns = adult19_new.columns\n",
        "print(adult19_new.shape)\n",
        "print(\"Number of columns with null values =\" , null_data.shape[0])"
      ]
    },
    {
      "cell_type": "code",
      "execution_count": 5,
      "metadata": {
        "colab": {
          "base_uri": "https://localhost:8080/"
        },
        "id": "Nn_ffpTSvsnn",
        "outputId": "003cd36a-73b9-447d-95ef-d543178f7b71"
      },
      "outputs": [
        {
          "output_type": "stream",
          "name": "stdout",
          "text": [
            "(10415, 528)\n"
          ]
        }
      ],
      "source": [
        "adult19_new = adult19_new.select_dtypes(exclude=['object'])\n",
        "print(adult19_new.shape)"
      ]
    },
    {
      "cell_type": "code",
      "execution_count": 6,
      "metadata": {
        "colab": {
          "base_uri": "https://localhost:8080/"
        },
        "id": "70LMJSQyORon",
        "outputId": "ac036eed-ba3c-4545-aafe-541dcaa3b186"
      },
      "outputs": [
        {
          "output_type": "stream",
          "name": "stdout",
          "text": [
            "(10415, 516)\n"
          ]
        }
      ],
      "source": [
        "to_drop = ['SHTFLUY_A','ZOSTAVXYRP_A','SHINGRXYRP_A','WTIA_A','WTFA_A','WTSA_L', 'PSTRAT', 'PPSU','SRVY_YR_x','SRVY_YR_y','RECTYPE_x','RECTYPE_y']\n",
        "adult19_new.drop(to_drop, axis=1, inplace=True)\n",
        "print(adult19_new.shape)"
      ]
    },
    {
      "cell_type": "markdown",
      "metadata": {
        "id": "BAsX5A7DykRg"
      },
      "source": [
        "Identifying categorical and numeric data"
      ]
    },
    {
      "cell_type": "code",
      "execution_count": 7,
      "metadata": {
        "colab": {
          "base_uri": "https://localhost:8080/"
        },
        "id": "uZrCjvY5rmyw",
        "outputId": "ea6a5ceb-8761-4f58-ab3f-133fb2aa7f05"
      },
      "outputs": [
        {
          "output_type": "stream",
          "name": "stdout",
          "text": [
            "516\n"
          ]
        }
      ],
      "source": [
        "columns = adult19_new.columns\n",
        "print(len(columns))"
      ]
    },
    {
      "cell_type": "code",
      "execution_count": 8,
      "metadata": {
        "colab": {
          "base_uri": "https://localhost:8080/"
        },
        "id": "mtXXRdnHyoXL",
        "outputId": "42f54fc3-9511-4d2a-f858-f494024e1c42"
      },
      "outputs": [
        {
          "output_type": "stream",
          "name": "stdout",
          "text": [
            "The dataset has 516 total columns, out of which 54 are numerical and 462 are categorical.\n"
          ]
        }
      ],
      "source": [
        "cat2 = ['EDUC_A','HISPALLP_A', 'MAXEDUC_A','PLNWRKR1_A','PLNWRKR2_A',\n",
        "        'CERVICNOT_A','SPOUSEDUC_A','PRTNREDUC_A']\n",
        "\n",
        "num2 = ['WEIGHTLBTC_A', 'EMPDYSMSS2_A']\n",
        "\n",
        "numeric_columns = ['HILASTMY_A', 'HINOTMYR_A', 'JNTPN_A', 'CIGNOW_A', 'SMK30D_A', 'CIG30D_A', 'CIGAR30D_A', \n",
        "                   'FDSSKIPDYS_A', 'FDSNEDAYS_A', 'AGEP_A', 'BLADDAGETC_A','BLOODAGETC_A',\n",
        "                   'BONEAGETC_A','BRAINAGETC_A','BREASAGETC_A','CERVIAGETC_A','COLONAGETC_A','ESOPHAGETC_A',\n",
        "                   'LEUKEAGETC_A','LIVERAGETC_A','LUNGAGETC_A','LYMPHAGETC_A','MELANAGETC_A','MOUTHAGETC_A','OVARYAGETC_A','PANCRAGETC_A',\n",
        "                   'PROSTAGETC_A','RECTUAGETC_A','SKNMAGETC_A','SKNNMAGETC_A','SKNDKAGETC_A','STOMAAGETC_A','THROAAGETC_A','THYROAGETC_A',\n",
        "                   'UTERUAGETC_A','HDNCKAGETC_A','COLRCAGETC_A','OTHERAGETC_A','DIBAGETC_A','DIFYRSTC_A','HEIGHTTC_A','WEIGHTLBTC_A',\n",
        "                   'HICOSTR1_A','HICOSTR2_A','PSA5YRTC_A','SHTHPVAGEP_A','SPOUSAGETC_A','PRTNRAGETC_A','SCHDYMSSTC_A','EMPWKHRS2_A','EMPDYSMSS2_A',\n",
        "                   'FAMINCTC_A','POVRATTC_A','RATCAT_A']\n",
        "categorical_columns = list(set(columns).difference(numeric_columns))\n",
        "cat1 = list(set(categorical_columns).difference(cat2))\n",
        "print(\"The dataset has {} total columns, out of which {} are numerical and {} are categorical.\".format(len(columns), len(numeric_columns), len(categorical_columns)))"
      ]
    },
    {
      "cell_type": "markdown",
      "source": [
        "Replacing \"refused\", \"don't know\" ... etc values with Null"
      ],
      "metadata": {
        "id": "S0JituQhFXEc"
      }
    },
    {
      "cell_type": "code",
      "execution_count": 9,
      "metadata": {
        "id": "s4A_Qp-YQ8Rg"
      },
      "outputs": [],
      "source": [
        "for column in cat2:  \n",
        "  adult19_new[column].replace(to_replace=[97,98,99],value=np.NAN,inplace=True)\n",
        "  \n",
        "for column in cat1:  \n",
        "  adult19_new[column].replace(to_replace=[7,8,9],value=np.NAN,inplace=True)"
      ]
    },
    {
      "cell_type": "code",
      "execution_count": 10,
      "metadata": {
        "id": "DXCv5DL-2Qbe",
        "colab": {
          "base_uri": "https://localhost:8080/",
          "height": 299
        },
        "outputId": "e41f8368-fd13-44bc-9518-d0d09cbd44dc"
      },
      "outputs": [
        {
          "output_type": "execute_result",
          "data": {
            "text/plain": [
              "   RATCAT_A  FAMINCTC_A  SCHDYMSSTC_A  PRTNRAGETC_A  SPOUSAGETC_A  \\\n",
              "0        14       80000           NaN           NaN          79.0   \n",
              "1        14       66000           NaN           NaN           NaN   \n",
              "2        14      153000           NaN           NaN           NaN   \n",
              "3         5       26407           NaN           NaN          63.0   \n",
              "4        10       50000           NaN           NaN          85.0   \n",
              "\n",
              "   SHTHPVAGEP_A  EMPDYSMSS2_A  EMPWKHRS2_A  DIFYRSTC_A  DIBAGETC_A  ...  \\\n",
              "0           NaN           NaN          NaN         NaN         NaN  ...   \n",
              "1           NaN           0.0         95.0         NaN         NaN  ...   \n",
              "2          18.0           0.0         40.0         NaN         NaN  ...   \n",
              "3           NaN           NaN          NaN         NaN         NaN  ...   \n",
              "4           NaN           NaN          NaN         NaN         NaN  ...   \n",
              "\n",
              "   MEDICAID_A_1.0  MEDICAID_A_2.0  MEDICAID_A_3.0  MHRX_A_1.0  MHRX_A_2.0  \\\n",
              "0               0               0               1           0           1   \n",
              "1               0               0               1           0           1   \n",
              "2               0               0               1           0           1   \n",
              "3               1               0               0           0           1   \n",
              "4               0               0               1           0           0   \n",
              "\n",
              "   PRDNCOV2_A_1.0  PRDNCOV2_A_2.0  PAYWORRY_A_1.0  PAYWORRY_A_2.0  \\\n",
              "0               0               0               0               0   \n",
              "1               0               0               0               0   \n",
              "2               0               0               0               0   \n",
              "3               0               0               0               1   \n",
              "4               0               0               0               0   \n",
              "\n",
              "   PAYWORRY_A_3.0  \n",
              "0               1  \n",
              "1               1  \n",
              "2               1  \n",
              "3               0  \n",
              "4               1  \n",
              "\n",
              "[5 rows x 1344 columns]"
            ],
            "text/html": [
              "\n",
              "  <div id=\"df-d2580651-3699-44e7-9690-0acbf6cdfc6f\">\n",
              "    <div class=\"colab-df-container\">\n",
              "      <div>\n",
              "<style scoped>\n",
              "    .dataframe tbody tr th:only-of-type {\n",
              "        vertical-align: middle;\n",
              "    }\n",
              "\n",
              "    .dataframe tbody tr th {\n",
              "        vertical-align: top;\n",
              "    }\n",
              "\n",
              "    .dataframe thead th {\n",
              "        text-align: right;\n",
              "    }\n",
              "</style>\n",
              "<table border=\"1\" class=\"dataframe\">\n",
              "  <thead>\n",
              "    <tr style=\"text-align: right;\">\n",
              "      <th></th>\n",
              "      <th>RATCAT_A</th>\n",
              "      <th>FAMINCTC_A</th>\n",
              "      <th>SCHDYMSSTC_A</th>\n",
              "      <th>PRTNRAGETC_A</th>\n",
              "      <th>SPOUSAGETC_A</th>\n",
              "      <th>SHTHPVAGEP_A</th>\n",
              "      <th>EMPDYSMSS2_A</th>\n",
              "      <th>EMPWKHRS2_A</th>\n",
              "      <th>DIFYRSTC_A</th>\n",
              "      <th>DIBAGETC_A</th>\n",
              "      <th>...</th>\n",
              "      <th>MEDICAID_A_1.0</th>\n",
              "      <th>MEDICAID_A_2.0</th>\n",
              "      <th>MEDICAID_A_3.0</th>\n",
              "      <th>MHRX_A_1.0</th>\n",
              "      <th>MHRX_A_2.0</th>\n",
              "      <th>PRDNCOV2_A_1.0</th>\n",
              "      <th>PRDNCOV2_A_2.0</th>\n",
              "      <th>PAYWORRY_A_1.0</th>\n",
              "      <th>PAYWORRY_A_2.0</th>\n",
              "      <th>PAYWORRY_A_3.0</th>\n",
              "    </tr>\n",
              "  </thead>\n",
              "  <tbody>\n",
              "    <tr>\n",
              "      <th>0</th>\n",
              "      <td>14</td>\n",
              "      <td>80000</td>\n",
              "      <td>NaN</td>\n",
              "      <td>NaN</td>\n",
              "      <td>79.0</td>\n",
              "      <td>NaN</td>\n",
              "      <td>NaN</td>\n",
              "      <td>NaN</td>\n",
              "      <td>NaN</td>\n",
              "      <td>NaN</td>\n",
              "      <td>...</td>\n",
              "      <td>0</td>\n",
              "      <td>0</td>\n",
              "      <td>1</td>\n",
              "      <td>0</td>\n",
              "      <td>1</td>\n",
              "      <td>0</td>\n",
              "      <td>0</td>\n",
              "      <td>0</td>\n",
              "      <td>0</td>\n",
              "      <td>1</td>\n",
              "    </tr>\n",
              "    <tr>\n",
              "      <th>1</th>\n",
              "      <td>14</td>\n",
              "      <td>66000</td>\n",
              "      <td>NaN</td>\n",
              "      <td>NaN</td>\n",
              "      <td>NaN</td>\n",
              "      <td>NaN</td>\n",
              "      <td>0.0</td>\n",
              "      <td>95.0</td>\n",
              "      <td>NaN</td>\n",
              "      <td>NaN</td>\n",
              "      <td>...</td>\n",
              "      <td>0</td>\n",
              "      <td>0</td>\n",
              "      <td>1</td>\n",
              "      <td>0</td>\n",
              "      <td>1</td>\n",
              "      <td>0</td>\n",
              "      <td>0</td>\n",
              "      <td>0</td>\n",
              "      <td>0</td>\n",
              "      <td>1</td>\n",
              "    </tr>\n",
              "    <tr>\n",
              "      <th>2</th>\n",
              "      <td>14</td>\n",
              "      <td>153000</td>\n",
              "      <td>NaN</td>\n",
              "      <td>NaN</td>\n",
              "      <td>NaN</td>\n",
              "      <td>18.0</td>\n",
              "      <td>0.0</td>\n",
              "      <td>40.0</td>\n",
              "      <td>NaN</td>\n",
              "      <td>NaN</td>\n",
              "      <td>...</td>\n",
              "      <td>0</td>\n",
              "      <td>0</td>\n",
              "      <td>1</td>\n",
              "      <td>0</td>\n",
              "      <td>1</td>\n",
              "      <td>0</td>\n",
              "      <td>0</td>\n",
              "      <td>0</td>\n",
              "      <td>0</td>\n",
              "      <td>1</td>\n",
              "    </tr>\n",
              "    <tr>\n",
              "      <th>3</th>\n",
              "      <td>5</td>\n",
              "      <td>26407</td>\n",
              "      <td>NaN</td>\n",
              "      <td>NaN</td>\n",
              "      <td>63.0</td>\n",
              "      <td>NaN</td>\n",
              "      <td>NaN</td>\n",
              "      <td>NaN</td>\n",
              "      <td>NaN</td>\n",
              "      <td>NaN</td>\n",
              "      <td>...</td>\n",
              "      <td>1</td>\n",
              "      <td>0</td>\n",
              "      <td>0</td>\n",
              "      <td>0</td>\n",
              "      <td>1</td>\n",
              "      <td>0</td>\n",
              "      <td>0</td>\n",
              "      <td>0</td>\n",
              "      <td>1</td>\n",
              "      <td>0</td>\n",
              "    </tr>\n",
              "    <tr>\n",
              "      <th>4</th>\n",
              "      <td>10</td>\n",
              "      <td>50000</td>\n",
              "      <td>NaN</td>\n",
              "      <td>NaN</td>\n",
              "      <td>85.0</td>\n",
              "      <td>NaN</td>\n",
              "      <td>NaN</td>\n",
              "      <td>NaN</td>\n",
              "      <td>NaN</td>\n",
              "      <td>NaN</td>\n",
              "      <td>...</td>\n",
              "      <td>0</td>\n",
              "      <td>0</td>\n",
              "      <td>1</td>\n",
              "      <td>0</td>\n",
              "      <td>0</td>\n",
              "      <td>0</td>\n",
              "      <td>0</td>\n",
              "      <td>0</td>\n",
              "      <td>0</td>\n",
              "      <td>1</td>\n",
              "    </tr>\n",
              "  </tbody>\n",
              "</table>\n",
              "<p>5 rows × 1344 columns</p>\n",
              "</div>\n",
              "      <button class=\"colab-df-convert\" onclick=\"convertToInteractive('df-d2580651-3699-44e7-9690-0acbf6cdfc6f')\"\n",
              "              title=\"Convert this dataframe to an interactive table.\"\n",
              "              style=\"display:none;\">\n",
              "        \n",
              "  <svg xmlns=\"http://www.w3.org/2000/svg\" height=\"24px\"viewBox=\"0 0 24 24\"\n",
              "       width=\"24px\">\n",
              "    <path d=\"M0 0h24v24H0V0z\" fill=\"none\"/>\n",
              "    <path d=\"M18.56 5.44l.94 2.06.94-2.06 2.06-.94-2.06-.94-.94-2.06-.94 2.06-2.06.94zm-11 1L8.5 8.5l.94-2.06 2.06-.94-2.06-.94L8.5 2.5l-.94 2.06-2.06.94zm10 10l.94 2.06.94-2.06 2.06-.94-2.06-.94-.94-2.06-.94 2.06-2.06.94z\"/><path d=\"M17.41 7.96l-1.37-1.37c-.4-.4-.92-.59-1.43-.59-.52 0-1.04.2-1.43.59L10.3 9.45l-7.72 7.72c-.78.78-.78 2.05 0 2.83L4 21.41c.39.39.9.59 1.41.59.51 0 1.02-.2 1.41-.59l7.78-7.78 2.81-2.81c.8-.78.8-2.07 0-2.86zM5.41 20L4 18.59l7.72-7.72 1.47 1.35L5.41 20z\"/>\n",
              "  </svg>\n",
              "      </button>\n",
              "      \n",
              "  <style>\n",
              "    .colab-df-container {\n",
              "      display:flex;\n",
              "      flex-wrap:wrap;\n",
              "      gap: 12px;\n",
              "    }\n",
              "\n",
              "    .colab-df-convert {\n",
              "      background-color: #E8F0FE;\n",
              "      border: none;\n",
              "      border-radius: 50%;\n",
              "      cursor: pointer;\n",
              "      display: none;\n",
              "      fill: #1967D2;\n",
              "      height: 32px;\n",
              "      padding: 0 0 0 0;\n",
              "      width: 32px;\n",
              "    }\n",
              "\n",
              "    .colab-df-convert:hover {\n",
              "      background-color: #E2EBFA;\n",
              "      box-shadow: 0px 1px 2px rgba(60, 64, 67, 0.3), 0px 1px 3px 1px rgba(60, 64, 67, 0.15);\n",
              "      fill: #174EA6;\n",
              "    }\n",
              "\n",
              "    [theme=dark] .colab-df-convert {\n",
              "      background-color: #3B4455;\n",
              "      fill: #D2E3FC;\n",
              "    }\n",
              "\n",
              "    [theme=dark] .colab-df-convert:hover {\n",
              "      background-color: #434B5C;\n",
              "      box-shadow: 0px 1px 3px 1px rgba(0, 0, 0, 0.15);\n",
              "      filter: drop-shadow(0px 1px 2px rgba(0, 0, 0, 0.3));\n",
              "      fill: #FFFFFF;\n",
              "    }\n",
              "  </style>\n",
              "\n",
              "      <script>\n",
              "        const buttonEl =\n",
              "          document.querySelector('#df-d2580651-3699-44e7-9690-0acbf6cdfc6f button.colab-df-convert');\n",
              "        buttonEl.style.display =\n",
              "          google.colab.kernel.accessAllowed ? 'block' : 'none';\n",
              "\n",
              "        async function convertToInteractive(key) {\n",
              "          const element = document.querySelector('#df-d2580651-3699-44e7-9690-0acbf6cdfc6f');\n",
              "          const dataTable =\n",
              "            await google.colab.kernel.invokeFunction('convertToInteractive',\n",
              "                                                     [key], {});\n",
              "          if (!dataTable) return;\n",
              "\n",
              "          const docLinkHtml = 'Like what you see? Visit the ' +\n",
              "            '<a target=\"_blank\" href=https://colab.research.google.com/notebooks/data_table.ipynb>data table notebook</a>'\n",
              "            + ' to learn more about interactive tables.';\n",
              "          element.innerHTML = '';\n",
              "          dataTable['output_type'] = 'display_data';\n",
              "          await google.colab.output.renderOutput(dataTable, element);\n",
              "          const docLink = document.createElement('div');\n",
              "          docLink.innerHTML = docLinkHtml;\n",
              "          element.appendChild(docLink);\n",
              "        }\n",
              "      </script>\n",
              "    </div>\n",
              "  </div>\n",
              "  "
            ]
          },
          "metadata": {},
          "execution_count": 10
        }
      ],
      "source": [
        "adult19_new = pd.get_dummies(adult19_new, columns = categorical_columns)\n",
        "adult19_new.head()"
      ]
    },
    {
      "cell_type": "code",
      "execution_count": 11,
      "metadata": {
        "id": "luNg2YMYwwq1"
      },
      "outputs": [],
      "source": [
        "def find_null(data):\n",
        "  null_columns = data.columns[data.isna().any()].tolist()\n",
        "  null_data = (100 * data[null_columns].isna().sum())/data.shape[0]\n",
        "  print(null_data.head())\n",
        "  print(\"Number of columns with null values =\" , null_data.shape[0])"
      ]
    },
    {
      "cell_type": "code",
      "execution_count": 12,
      "metadata": {
        "colab": {
          "base_uri": "https://localhost:8080/"
        },
        "id": "pbadtLMwv9H5",
        "outputId": "47fe95f8-cf6c-4c8e-d95a-4034c6efd86c"
      },
      "outputs": [
        {
          "output_type": "stream",
          "name": "stdout",
          "text": [
            "SCHDYMSSTC_A    94.200672\n",
            "PRTNRAGETC_A    94.354297\n",
            "SPOUSAGETC_A    53.643783\n",
            "SHTHPVAGEP_A    91.339414\n",
            "EMPDYSMSS2_A    35.756121\n",
            "dtype: float64\n",
            "Number of columns with null values = 48\n"
          ]
        }
      ],
      "source": [
        "find_null(adult19_new)"
      ]
    },
    {
      "cell_type": "markdown",
      "source": [
        "Drop columns with more than 90% null values"
      ],
      "metadata": {
        "id": "n8Ogh6IgF8w6"
      }
    },
    {
      "cell_type": "code",
      "execution_count": 13,
      "metadata": {
        "colab": {
          "base_uri": "https://localhost:8080/"
        },
        "id": "fG6TddlavxiT",
        "outputId": "81c43302-5395-4ec1-c6c6-48635380bcc6"
      },
      "outputs": [
        {
          "output_type": "stream",
          "name": "stdout",
          "text": [
            "1305\n"
          ]
        }
      ],
      "source": [
        "threshold = 0.1 * adult19_new.shape[0]\n",
        "adult19_new = adult19_new.dropna( axis = 1, thresh = threshold)\n",
        "print(adult19_new.shape[1])"
      ]
    },
    {
      "cell_type": "code",
      "execution_count": 14,
      "metadata": {
        "colab": {
          "base_uri": "https://localhost:8080/"
        },
        "id": "kMymAWJEwBI4",
        "outputId": "85bbfb64-5684-4231-b355-6ce30f102281"
      },
      "outputs": [
        {
          "output_type": "stream",
          "name": "stdout",
          "text": [
            "SPOUSAGETC_A    53.643783\n",
            "EMPDYSMSS2_A    35.756121\n",
            "EMPWKHRS2_A     40.499280\n",
            "DIFYRSTC_A      89.457513\n",
            "DIBAGETC_A      89.457513\n",
            "dtype: float64\n",
            "Number of columns with null values = 9\n"
          ]
        }
      ],
      "source": [
        "find_null(adult19_new)"
      ]
    },
    {
      "cell_type": "markdown",
      "metadata": {
        "id": "YzUTET02mL6R"
      },
      "source": [
        "Implement MICE in batches, otherwise RAM usage will exceed.\n",
        "Free memory as we go, otherwise reading dataframes will cause memory to be completely used up."
      ]
    },
    {
      "cell_type": "code",
      "execution_count": 15,
      "metadata": {
        "colab": {
          "base_uri": "https://localhost:8080/"
        },
        "id": "pfZ0L9cBZyUl",
        "outputId": "0d6456de-99c1-4172-a054-f7c84feaefbd"
      },
      "outputs": [
        {
          "output_type": "stream",
          "name": "stdout",
          "text": [
            "[IterativeImputer] Completing matrix with shape (10415, 87)\n",
            "[IterativeImputer] Ending imputation round 1/1, elapsed time 18.50\n",
            "[IterativeImputer] Change: 665395.310059453, scaled tolerance: 220.0 \n",
            "(10415, 87)\n"
          ]
        },
        {
          "output_type": "stream",
          "name": "stderr",
          "text": [
            "/usr/local/lib/python3.9/dist-packages/sklearn/impute/_iterative.py:785: ConvergenceWarning: [IterativeImputer] Early stopping criterion not reached.\n",
            "  warnings.warn(\n"
          ]
        },
        {
          "output_type": "stream",
          "name": "stdout",
          "text": [
            "[IterativeImputer] Completing matrix with shape (10415, 87)\n",
            "[IterativeImputer] Ending imputation round 1/1, elapsed time 24.71\n",
            "[IterativeImputer] Change: 0.0, scaled tolerance: 0.001 \n",
            "[IterativeImputer] Early stopping criterion reached.\n",
            "(10415, 174)\n",
            "[IterativeImputer] Completing matrix with shape (10415, 87)\n",
            "[IterativeImputer] Ending imputation round 1/1, elapsed time 22.00\n",
            "[IterativeImputer] Change: 0.0, scaled tolerance: 0.001 \n",
            "[IterativeImputer] Early stopping criterion reached.\n",
            "(10415, 261)\n",
            "[IterativeImputer] Completing matrix with shape (10415, 87)\n",
            "[IterativeImputer] Ending imputation round 1/1, elapsed time 15.74\n",
            "[IterativeImputer] Change: 0.0, scaled tolerance: 0.001 \n",
            "[IterativeImputer] Early stopping criterion reached.\n",
            "(10415, 348)\n",
            "[IterativeImputer] Completing matrix with shape (10415, 87)\n",
            "[IterativeImputer] Ending imputation round 1/1, elapsed time 12.80\n",
            "[IterativeImputer] Change: 0.0, scaled tolerance: 0.001 \n",
            "[IterativeImputer] Early stopping criterion reached.\n",
            "(10415, 435)\n",
            "[IterativeImputer] Completing matrix with shape (10415, 87)\n",
            "[IterativeImputer] Ending imputation round 1/1, elapsed time 8.85\n",
            "[IterativeImputer] Change: 0.0, scaled tolerance: 0.001 \n",
            "[IterativeImputer] Early stopping criterion reached.\n",
            "(10415, 522)\n",
            "[IterativeImputer] Completing matrix with shape (10415, 87)\n",
            "[IterativeImputer] Ending imputation round 1/1, elapsed time 6.44\n",
            "[IterativeImputer] Change: 0.0, scaled tolerance: 0.001 \n",
            "[IterativeImputer] Early stopping criterion reached.\n",
            "(10415, 609)\n",
            "[IterativeImputer] Completing matrix with shape (10415, 87)\n",
            "[IterativeImputer] Ending imputation round 1/1, elapsed time 8.58\n",
            "[IterativeImputer] Change: 0.0, scaled tolerance: 0.001 \n",
            "[IterativeImputer] Early stopping criterion reached.\n",
            "(10415, 696)\n",
            "[IterativeImputer] Completing matrix with shape (10415, 87)\n",
            "[IterativeImputer] Ending imputation round 1/1, elapsed time 6.35\n",
            "[IterativeImputer] Change: 0.0, scaled tolerance: 0.001 \n",
            "[IterativeImputer] Early stopping criterion reached.\n",
            "(10415, 783)\n",
            "[IterativeImputer] Completing matrix with shape (10415, 87)\n",
            "[IterativeImputer] Ending imputation round 1/1, elapsed time 8.69\n",
            "[IterativeImputer] Change: 0.0, scaled tolerance: 0.001 \n",
            "[IterativeImputer] Early stopping criterion reached.\n",
            "(10415, 870)\n",
            "[IterativeImputer] Completing matrix with shape (10415, 87)\n",
            "[IterativeImputer] Ending imputation round 1/1, elapsed time 6.24\n",
            "[IterativeImputer] Change: 0.0, scaled tolerance: 0.001 \n",
            "[IterativeImputer] Early stopping criterion reached.\n",
            "(10415, 957)\n",
            "[IterativeImputer] Completing matrix with shape (10415, 87)\n",
            "[IterativeImputer] Ending imputation round 1/1, elapsed time 8.42\n",
            "[IterativeImputer] Change: 0.0, scaled tolerance: 0.001 \n",
            "[IterativeImputer] Early stopping criterion reached.\n",
            "(10415, 1044)\n",
            "[IterativeImputer] Completing matrix with shape (10415, 87)\n",
            "[IterativeImputer] Ending imputation round 1/1, elapsed time 9.29\n",
            "[IterativeImputer] Change: 0.0, scaled tolerance: 0.001 \n",
            "[IterativeImputer] Early stopping criterion reached.\n",
            "(10415, 1131)\n",
            "[IterativeImputer] Completing matrix with shape (10415, 87)\n",
            "[IterativeImputer] Ending imputation round 1/1, elapsed time 8.44\n",
            "[IterativeImputer] Change: 0.0, scaled tolerance: 0.001 \n",
            "[IterativeImputer] Early stopping criterion reached.\n",
            "(10415, 1218)\n",
            "[IterativeImputer] Completing matrix with shape (10415, 87)\n",
            "[IterativeImputer] Ending imputation round 1/1, elapsed time 6.79\n",
            "[IterativeImputer] Change: 0.0, scaled tolerance: 0.001 \n",
            "[IterativeImputer] Early stopping criterion reached.\n",
            "(10415, 1305)\n"
          ]
        }
      ],
      "source": [
        "lr = LinearRegression()\n",
        "imp = IterativeImputer(estimator=lr,missing_values=np.nan, max_iter=1, verbose=2, imputation_order='roman',random_state=0)\n",
        "number_of_columns = adult19_new.shape[1]\n",
        "total_df = pd.DataFrame()\n",
        "for i in range(0, number_of_columns, 87):\n",
        "  temp = adult19_new.iloc[:,i:i+87]\n",
        "  cols = temp.columns\n",
        "  adult19_transformed = imp.fit_transform(temp)\n",
        "  adult19_temp = pd.DataFrame(adult19_transformed, columns=cols)\n",
        "  total_df = pd.concat([total_df, adult19_temp],axis=1 )\n",
        "  print(total_df.shape)\n",
        "  del(temp)\n",
        "  del(adult19_transformed)\n",
        "  del(adult19_temp)\n",
        "  gc.collect()  "
      ]
    },
    {
      "cell_type": "code",
      "execution_count": 16,
      "metadata": {
        "colab": {
          "base_uri": "https://localhost:8080/"
        },
        "id": "dC4e9_0GmHtB",
        "outputId": "b634fb4a-a566-4430-a2b6-1c74685a5b05"
      },
      "outputs": [
        {
          "output_type": "stream",
          "name": "stdout",
          "text": [
            "Series([], dtype: float64)\n",
            "Number of columns with null values = 0\n"
          ]
        }
      ],
      "source": [
        "find_null(total_df)"
      ]
    },
    {
      "cell_type": "markdown",
      "source": [
        "Normalize Numerical columns\n"
      ],
      "metadata": {
        "id": "_WeeKQZBFi5H"
      }
    },
    {
      "cell_type": "code",
      "source": [
        "# train_norm = adult19_new[numeric_columns]\n",
        "# Normalize Training Data \n",
        "# std_scale = RobustScaler().fit(train_norm)\n",
        "# x_train_norm = std_scale.transform(train_norm)\n",
        "# Converting numpy array to dataframe\n",
        "# training_norm_col = pd.DataFrame(x_train_norm, index=train_norm.index, columns=train_norm.columns) \n",
        "# adult19_new.update(training_norm_col)\n",
        "# adult19_new.head()"
      ],
      "metadata": {
        "id": "CUezMamvcUUp"
      },
      "execution_count": 17,
      "outputs": []
    },
    {
      "cell_type": "code",
      "source": [
        "scaler = RobustScaler()\n",
        "numeric_cols = total_df.columns.intersection(numeric_columns)\n",
        "scaler = scaler.fit(total_df[numeric_cols])\n",
        "\n",
        "total_df.loc[:, numeric_cols] = scaler.transform(total_df[numeric_cols].to_numpy())"
      ],
      "metadata": {
        "id": "G6CIbIa0V-1I",
        "colab": {
          "base_uri": "https://localhost:8080/"
        },
        "outputId": "91774cdf-c97e-4586-dc29-e80c999e81b0"
      },
      "execution_count": 18,
      "outputs": [
        {
          "output_type": "stream",
          "name": "stderr",
          "text": [
            "/usr/local/lib/python3.9/dist-packages/sklearn/base.py:439: UserWarning: X does not have valid feature names, but RobustScaler was fitted with feature names\n",
            "  warnings.warn(\n"
          ]
        }
      ]
    },
    {
      "cell_type": "code",
      "execution_count": 19,
      "metadata": {
        "colab": {
          "base_uri": "https://localhost:8080/",
          "height": 299
        },
        "id": "upueqX3WuzXc",
        "outputId": "96e787fc-f8c1-439e-904b-ad5af3b9bbea"
      },
      "outputs": [
        {
          "output_type": "execute_result",
          "data": {
            "text/plain": [
              "   RATCAT_A  FAMINCTC_A  SPOUSAGETC_A  EMPDYSMSS2_A  EMPWKHRS2_A  DIFYRSTC_A  \\\n",
              "0  0.428571    0.273036      0.342130      0.067516    -0.021212    1.182031   \n",
              "1  0.428571    0.081911      0.064478     -0.166667     4.939572   -0.227177   \n",
              "2  0.428571    1.269616      0.184661     -0.166667     0.244718   -0.637716   \n",
              "3 -0.857143   -0.458604     -0.150457     10.472277    -0.675946    0.428952   \n",
              "4 -0.142857   -0.136518      0.526849      0.254211    -0.833288    0.423441   \n",
              "\n",
              "   DIBAGETC_A  WEIGHTLBTC_A  HEIGHTTC_A  PSA5YRTC_A  ...  MEDICAID_A_1.0  \\\n",
              "0    0.866832     -0.656250    0.666667   -0.155467  ...             0.0   \n",
              "1   -0.452878      0.546875    0.333333    0.366570  ...             0.0   \n",
              "2   -0.566485     -0.046875    0.166667   -1.023609  ...             0.0   \n",
              "3    0.458770     12.750000    4.833333   13.840999  ...             1.0   \n",
              "4    0.265407     -0.234375   -1.000000   -0.060752  ...             0.0   \n",
              "\n",
              "   MEDICAID_A_2.0  MEDICAID_A_3.0  MHRX_A_1.0  MHRX_A_2.0  PRDNCOV2_A_1.0  \\\n",
              "0             0.0             1.0         0.0         1.0             0.0   \n",
              "1             0.0             1.0         0.0         1.0             0.0   \n",
              "2             0.0             1.0         0.0         1.0             0.0   \n",
              "3             0.0             0.0         0.0         1.0             0.0   \n",
              "4             0.0             1.0         0.0         0.0             0.0   \n",
              "\n",
              "   PRDNCOV2_A_2.0  PAYWORRY_A_1.0  PAYWORRY_A_2.0  PAYWORRY_A_3.0  \n",
              "0             0.0             0.0             0.0             1.0  \n",
              "1             0.0             0.0             0.0             1.0  \n",
              "2             0.0             0.0             0.0             1.0  \n",
              "3             0.0             0.0             1.0             0.0  \n",
              "4             0.0             0.0             0.0             1.0  \n",
              "\n",
              "[5 rows x 1305 columns]"
            ],
            "text/html": [
              "\n",
              "  <div id=\"df-7f120399-6383-47f3-9b87-41dc380938ad\">\n",
              "    <div class=\"colab-df-container\">\n",
              "      <div>\n",
              "<style scoped>\n",
              "    .dataframe tbody tr th:only-of-type {\n",
              "        vertical-align: middle;\n",
              "    }\n",
              "\n",
              "    .dataframe tbody tr th {\n",
              "        vertical-align: top;\n",
              "    }\n",
              "\n",
              "    .dataframe thead th {\n",
              "        text-align: right;\n",
              "    }\n",
              "</style>\n",
              "<table border=\"1\" class=\"dataframe\">\n",
              "  <thead>\n",
              "    <tr style=\"text-align: right;\">\n",
              "      <th></th>\n",
              "      <th>RATCAT_A</th>\n",
              "      <th>FAMINCTC_A</th>\n",
              "      <th>SPOUSAGETC_A</th>\n",
              "      <th>EMPDYSMSS2_A</th>\n",
              "      <th>EMPWKHRS2_A</th>\n",
              "      <th>DIFYRSTC_A</th>\n",
              "      <th>DIBAGETC_A</th>\n",
              "      <th>WEIGHTLBTC_A</th>\n",
              "      <th>HEIGHTTC_A</th>\n",
              "      <th>PSA5YRTC_A</th>\n",
              "      <th>...</th>\n",
              "      <th>MEDICAID_A_1.0</th>\n",
              "      <th>MEDICAID_A_2.0</th>\n",
              "      <th>MEDICAID_A_3.0</th>\n",
              "      <th>MHRX_A_1.0</th>\n",
              "      <th>MHRX_A_2.0</th>\n",
              "      <th>PRDNCOV2_A_1.0</th>\n",
              "      <th>PRDNCOV2_A_2.0</th>\n",
              "      <th>PAYWORRY_A_1.0</th>\n",
              "      <th>PAYWORRY_A_2.0</th>\n",
              "      <th>PAYWORRY_A_3.0</th>\n",
              "    </tr>\n",
              "  </thead>\n",
              "  <tbody>\n",
              "    <tr>\n",
              "      <th>0</th>\n",
              "      <td>0.428571</td>\n",
              "      <td>0.273036</td>\n",
              "      <td>0.342130</td>\n",
              "      <td>0.067516</td>\n",
              "      <td>-0.021212</td>\n",
              "      <td>1.182031</td>\n",
              "      <td>0.866832</td>\n",
              "      <td>-0.656250</td>\n",
              "      <td>0.666667</td>\n",
              "      <td>-0.155467</td>\n",
              "      <td>...</td>\n",
              "      <td>0.0</td>\n",
              "      <td>0.0</td>\n",
              "      <td>1.0</td>\n",
              "      <td>0.0</td>\n",
              "      <td>1.0</td>\n",
              "      <td>0.0</td>\n",
              "      <td>0.0</td>\n",
              "      <td>0.0</td>\n",
              "      <td>0.0</td>\n",
              "      <td>1.0</td>\n",
              "    </tr>\n",
              "    <tr>\n",
              "      <th>1</th>\n",
              "      <td>0.428571</td>\n",
              "      <td>0.081911</td>\n",
              "      <td>0.064478</td>\n",
              "      <td>-0.166667</td>\n",
              "      <td>4.939572</td>\n",
              "      <td>-0.227177</td>\n",
              "      <td>-0.452878</td>\n",
              "      <td>0.546875</td>\n",
              "      <td>0.333333</td>\n",
              "      <td>0.366570</td>\n",
              "      <td>...</td>\n",
              "      <td>0.0</td>\n",
              "      <td>0.0</td>\n",
              "      <td>1.0</td>\n",
              "      <td>0.0</td>\n",
              "      <td>1.0</td>\n",
              "      <td>0.0</td>\n",
              "      <td>0.0</td>\n",
              "      <td>0.0</td>\n",
              "      <td>0.0</td>\n",
              "      <td>1.0</td>\n",
              "    </tr>\n",
              "    <tr>\n",
              "      <th>2</th>\n",
              "      <td>0.428571</td>\n",
              "      <td>1.269616</td>\n",
              "      <td>0.184661</td>\n",
              "      <td>-0.166667</td>\n",
              "      <td>0.244718</td>\n",
              "      <td>-0.637716</td>\n",
              "      <td>-0.566485</td>\n",
              "      <td>-0.046875</td>\n",
              "      <td>0.166667</td>\n",
              "      <td>-1.023609</td>\n",
              "      <td>...</td>\n",
              "      <td>0.0</td>\n",
              "      <td>0.0</td>\n",
              "      <td>1.0</td>\n",
              "      <td>0.0</td>\n",
              "      <td>1.0</td>\n",
              "      <td>0.0</td>\n",
              "      <td>0.0</td>\n",
              "      <td>0.0</td>\n",
              "      <td>0.0</td>\n",
              "      <td>1.0</td>\n",
              "    </tr>\n",
              "    <tr>\n",
              "      <th>3</th>\n",
              "      <td>-0.857143</td>\n",
              "      <td>-0.458604</td>\n",
              "      <td>-0.150457</td>\n",
              "      <td>10.472277</td>\n",
              "      <td>-0.675946</td>\n",
              "      <td>0.428952</td>\n",
              "      <td>0.458770</td>\n",
              "      <td>12.750000</td>\n",
              "      <td>4.833333</td>\n",
              "      <td>13.840999</td>\n",
              "      <td>...</td>\n",
              "      <td>1.0</td>\n",
              "      <td>0.0</td>\n",
              "      <td>0.0</td>\n",
              "      <td>0.0</td>\n",
              "      <td>1.0</td>\n",
              "      <td>0.0</td>\n",
              "      <td>0.0</td>\n",
              "      <td>0.0</td>\n",
              "      <td>1.0</td>\n",
              "      <td>0.0</td>\n",
              "    </tr>\n",
              "    <tr>\n",
              "      <th>4</th>\n",
              "      <td>-0.142857</td>\n",
              "      <td>-0.136518</td>\n",
              "      <td>0.526849</td>\n",
              "      <td>0.254211</td>\n",
              "      <td>-0.833288</td>\n",
              "      <td>0.423441</td>\n",
              "      <td>0.265407</td>\n",
              "      <td>-0.234375</td>\n",
              "      <td>-1.000000</td>\n",
              "      <td>-0.060752</td>\n",
              "      <td>...</td>\n",
              "      <td>0.0</td>\n",
              "      <td>0.0</td>\n",
              "      <td>1.0</td>\n",
              "      <td>0.0</td>\n",
              "      <td>0.0</td>\n",
              "      <td>0.0</td>\n",
              "      <td>0.0</td>\n",
              "      <td>0.0</td>\n",
              "      <td>0.0</td>\n",
              "      <td>1.0</td>\n",
              "    </tr>\n",
              "  </tbody>\n",
              "</table>\n",
              "<p>5 rows × 1305 columns</p>\n",
              "</div>\n",
              "      <button class=\"colab-df-convert\" onclick=\"convertToInteractive('df-7f120399-6383-47f3-9b87-41dc380938ad')\"\n",
              "              title=\"Convert this dataframe to an interactive table.\"\n",
              "              style=\"display:none;\">\n",
              "        \n",
              "  <svg xmlns=\"http://www.w3.org/2000/svg\" height=\"24px\"viewBox=\"0 0 24 24\"\n",
              "       width=\"24px\">\n",
              "    <path d=\"M0 0h24v24H0V0z\" fill=\"none\"/>\n",
              "    <path d=\"M18.56 5.44l.94 2.06.94-2.06 2.06-.94-2.06-.94-.94-2.06-.94 2.06-2.06.94zm-11 1L8.5 8.5l.94-2.06 2.06-.94-2.06-.94L8.5 2.5l-.94 2.06-2.06.94zm10 10l.94 2.06.94-2.06 2.06-.94-2.06-.94-.94-2.06-.94 2.06-2.06.94z\"/><path d=\"M17.41 7.96l-1.37-1.37c-.4-.4-.92-.59-1.43-.59-.52 0-1.04.2-1.43.59L10.3 9.45l-7.72 7.72c-.78.78-.78 2.05 0 2.83L4 21.41c.39.39.9.59 1.41.59.51 0 1.02-.2 1.41-.59l7.78-7.78 2.81-2.81c.8-.78.8-2.07 0-2.86zM5.41 20L4 18.59l7.72-7.72 1.47 1.35L5.41 20z\"/>\n",
              "  </svg>\n",
              "      </button>\n",
              "      \n",
              "  <style>\n",
              "    .colab-df-container {\n",
              "      display:flex;\n",
              "      flex-wrap:wrap;\n",
              "      gap: 12px;\n",
              "    }\n",
              "\n",
              "    .colab-df-convert {\n",
              "      background-color: #E8F0FE;\n",
              "      border: none;\n",
              "      border-radius: 50%;\n",
              "      cursor: pointer;\n",
              "      display: none;\n",
              "      fill: #1967D2;\n",
              "      height: 32px;\n",
              "      padding: 0 0 0 0;\n",
              "      width: 32px;\n",
              "    }\n",
              "\n",
              "    .colab-df-convert:hover {\n",
              "      background-color: #E2EBFA;\n",
              "      box-shadow: 0px 1px 2px rgba(60, 64, 67, 0.3), 0px 1px 3px 1px rgba(60, 64, 67, 0.15);\n",
              "      fill: #174EA6;\n",
              "    }\n",
              "\n",
              "    [theme=dark] .colab-df-convert {\n",
              "      background-color: #3B4455;\n",
              "      fill: #D2E3FC;\n",
              "    }\n",
              "\n",
              "    [theme=dark] .colab-df-convert:hover {\n",
              "      background-color: #434B5C;\n",
              "      box-shadow: 0px 1px 3px 1px rgba(0, 0, 0, 0.15);\n",
              "      filter: drop-shadow(0px 1px 2px rgba(0, 0, 0, 0.3));\n",
              "      fill: #FFFFFF;\n",
              "    }\n",
              "  </style>\n",
              "\n",
              "      <script>\n",
              "        const buttonEl =\n",
              "          document.querySelector('#df-7f120399-6383-47f3-9b87-41dc380938ad button.colab-df-convert');\n",
              "        buttonEl.style.display =\n",
              "          google.colab.kernel.accessAllowed ? 'block' : 'none';\n",
              "\n",
              "        async function convertToInteractive(key) {\n",
              "          const element = document.querySelector('#df-7f120399-6383-47f3-9b87-41dc380938ad');\n",
              "          const dataTable =\n",
              "            await google.colab.kernel.invokeFunction('convertToInteractive',\n",
              "                                                     [key], {});\n",
              "          if (!dataTable) return;\n",
              "\n",
              "          const docLinkHtml = 'Like what you see? Visit the ' +\n",
              "            '<a target=\"_blank\" href=https://colab.research.google.com/notebooks/data_table.ipynb>data table notebook</a>'\n",
              "            + ' to learn more about interactive tables.';\n",
              "          element.innerHTML = '';\n",
              "          dataTable['output_type'] = 'display_data';\n",
              "          await google.colab.output.renderOutput(dataTable, element);\n",
              "          const docLink = document.createElement('div');\n",
              "          docLink.innerHTML = docLinkHtml;\n",
              "          element.appendChild(docLink);\n",
              "        }\n",
              "      </script>\n",
              "    </div>\n",
              "  </div>\n",
              "  "
            ]
          },
          "metadata": {},
          "execution_count": 19
        }
      ],
      "source": [
        "total_df.head()"
      ]
    },
    {
      "cell_type": "code",
      "source": [
        "# total_df.to_csv('NHIS-2019_cleaned.csv')"
      ],
      "metadata": {
        "id": "zgNnAWtbRHxH"
      },
      "execution_count": null,
      "outputs": []
    },
    {
      "cell_type": "markdown",
      "metadata": {
        "id": "GWIyi_8--CpA"
      },
      "source": [
        "Correlation matrix with Pearson's coefficient"
      ]
    },
    {
      "cell_type": "code",
      "execution_count": null,
      "metadata": {
        "colab": {
          "base_uri": "https://localhost:8080/"
        },
        "id": "kJK0pSlYuApN",
        "outputId": "5f9b06d1-7908-40c3-bb34-46ed02cda870"
      },
      "outputs": [
        {
          "output_type": "stream",
          "name": "stdout",
          "text": [
            "DEPEV_A_1.0         1.000000\n",
            "DEPMED_A_1.0        0.638508\n",
            "ANXEV_A_1.0         0.550975\n",
            "ANXMED_A_1.0        0.490637\n",
            "MHTHRPY_A_1.0       0.385734\n",
            "DEPFREQ_A_1.0       0.345055\n",
            "DEPLEVEL_A_2.0      0.344176\n",
            "MHTPYNOW_A_1.0      0.341453\n",
            "PHQ82_A_2.0         0.319614\n",
            "ANXFREQ_A_1.0       0.305522\n",
            "DEPFREQ_A_2.0       0.304983\n",
            "DEPLEVEL_A_3.0      0.297396\n",
            "COGTYPEDFF_A_3.0    0.280699\n",
            "PHQ84_A_4.0         0.273941\n",
            "GAD73_A_4.0         0.270040\n",
            "ANXLEVEL_A_2.0      0.258422\n",
            "PHQCAT_A_4.0        0.258274\n",
            "GAD72_A_4.0         0.257579\n",
            "PHQCAT_A_3.0        0.256739\n",
            "PHQ81_A_2.0         0.253964\n",
            "Name: DEPEV_A_1.0, dtype: float64\n"
          ]
        }
      ],
      "source": [
        "# corr_matrix = total_df.corr()\n",
        "# print(corr_matrix['DEPEV_A_1.0'].sort_values(ascending=False)[:20])"
      ]
    },
    {
      "cell_type": "markdown",
      "source": [
        "point biserial correlation is used to measure the relationship between a binary variable, x, and a continuous variable, y\n",
        "\n",
        "Chi-square test of indepedence if both categorical\n",
        "\n",
        "H0: Variables are independent\n",
        "Ha: Variable are not independent"
      ],
      "metadata": {
        "id": "KxsvgLPHuNVV"
      }
    },
    {
      "cell_type": "code",
      "source": [
        "corr_dict = {}\n",
        "independent_cols = []\n",
        "for col in total_df.columns:\n",
        "  if col in numeric_columns:\n",
        "    pvalue = stats.pointbiserialr(total_df[col],total_df['DEPEV_A_1.0'] ).pvalue\n",
        "    if pvalue < 0.05:\n",
        "      corr_dict[col] = pvalue\n",
        "    else:\n",
        "      independent_cols.append(col)\n",
        "  \n",
        "  else:\n",
        "    res = stats.contingency.crosstab(total_df[col],total_df['DEPEV_A_1.0']).count\n",
        "    result = stats.chi2_contingency(res)\n",
        "    if result.pvalue < 0.05:\n",
        "      corr_dict[col] = result.pvalue\n",
        "    else:\n",
        "      independent_cols.append(col)\n"
      ],
      "metadata": {
        "id": "gD3zwF1fjs09"
      },
      "execution_count": 20,
      "outputs": []
    },
    {
      "cell_type": "code",
      "source": [
        "dependent_cols = []\n",
        "corr_cols = corr_dict.keys()\n",
        "corr_dict = sorted(corr_dict.items(), key=lambda x:x[1])\n",
        "corr_dict = dict(corr_dict)\n",
        "n = len(corr_dict)\n",
        "l = list(corr_dict.items())\n",
        "for i in range(n):\n",
        "  dependent_cols.append(l[i][0])"
      ],
      "metadata": {
        "id": "V8EV-zlzz_6T"
      },
      "execution_count": 21,
      "outputs": []
    },
    {
      "cell_type": "markdown",
      "source": [
        "Causal Analysis"
      ],
      "metadata": {
        "id": "he82o9vNiEio"
      }
    },
    {
      "cell_type": "code",
      "execution_count": 22,
      "metadata": {
        "colab": {
          "base_uri": "https://localhost:8080/"
        },
        "id": "AQiEu01R8vBB",
        "outputId": "174a5870-e8fb-490e-996b-a32f3b69e88d"
      },
      "outputs": [
        {
          "output_type": "stream",
          "name": "stdout",
          "text": [
            "Looking in indexes: https://pypi.org/simple, https://us-python.pkg.dev/colab-wheels/public/simple/\n",
            "Requirement already satisfied: bnlearn in /usr/local/lib/python3.9/dist-packages (0.7.14)\n",
            "Requirement already satisfied: matplotlib>=3.3.4 in /usr/local/lib/python3.9/dist-packages (from bnlearn) (3.7.1)\n",
            "Requirement already satisfied: ipywidgets in /usr/local/lib/python3.9/dist-packages (from bnlearn) (7.7.1)\n",
            "Requirement already satisfied: df2onehot in /usr/local/lib/python3.9/dist-packages (from bnlearn) (1.0.3)\n",
            "Requirement already satisfied: python-louvain in /usr/local/lib/python3.9/dist-packages (from bnlearn) (0.16)\n",
            "Requirement already satisfied: fsspec in /usr/local/lib/python3.9/dist-packages (from bnlearn) (2023.4.0)\n",
            "Requirement already satisfied: funcsigs in /usr/local/lib/python3.9/dist-packages (from bnlearn) (1.0.2)\n",
            "Requirement already satisfied: pgmpy>=0.1.18 in /usr/local/lib/python3.9/dist-packages (from bnlearn) (0.1.22)\n",
            "Requirement already satisfied: numpy>=1.24.1 in /usr/local/lib/python3.9/dist-packages (from bnlearn) (1.24.2)\n",
            "Requirement already satisfied: pandas in /usr/local/lib/python3.9/dist-packages (from bnlearn) (1.5.3)\n",
            "Requirement already satisfied: networkx>=2.7.1 in /usr/local/lib/python3.9/dist-packages (from bnlearn) (3.1)\n",
            "Requirement already satisfied: pypickle in /usr/local/lib/python3.9/dist-packages (from bnlearn) (1.1.0)\n",
            "Requirement already satisfied: statsmodels in /usr/local/lib/python3.9/dist-packages (from bnlearn) (0.13.5)\n",
            "Requirement already satisfied: tqdm in /usr/local/lib/python3.9/dist-packages (from bnlearn) (4.65.0)\n",
            "Requirement already satisfied: tabulate in /usr/local/lib/python3.9/dist-packages (from bnlearn) (0.8.10)\n",
            "Requirement already satisfied: packaging in /usr/local/lib/python3.9/dist-packages (from bnlearn) (23.1)\n",
            "Requirement already satisfied: pyvis in /usr/local/lib/python3.9/dist-packages (from bnlearn) (0.3.2)\n",
            "Requirement already satisfied: ismember in /usr/local/lib/python3.9/dist-packages (from bnlearn) (1.0.2)\n",
            "Requirement already satisfied: scikit-learn in /usr/local/lib/python3.9/dist-packages (from bnlearn) (1.2.2)\n",
            "Requirement already satisfied: requests in /usr/local/lib/python3.9/dist-packages (from bnlearn) (2.27.1)\n",
            "Requirement already satisfied: pillow>=6.2.0 in /usr/local/lib/python3.9/dist-packages (from matplotlib>=3.3.4->bnlearn) (8.4.0)\n",
            "Requirement already satisfied: fonttools>=4.22.0 in /usr/local/lib/python3.9/dist-packages (from matplotlib>=3.3.4->bnlearn) (4.39.3)\n",
            "Requirement already satisfied: kiwisolver>=1.0.1 in /usr/local/lib/python3.9/dist-packages (from matplotlib>=3.3.4->bnlearn) (1.4.4)\n",
            "Requirement already satisfied: cycler>=0.10 in /usr/local/lib/python3.9/dist-packages (from matplotlib>=3.3.4->bnlearn) (0.11.0)\n",
            "Requirement already satisfied: contourpy>=1.0.1 in /usr/local/lib/python3.9/dist-packages (from matplotlib>=3.3.4->bnlearn) (1.0.7)\n",
            "Requirement already satisfied: pyparsing>=2.3.1 in /usr/local/lib/python3.9/dist-packages (from matplotlib>=3.3.4->bnlearn) (3.0.9)\n",
            "Requirement already satisfied: python-dateutil>=2.7 in /usr/local/lib/python3.9/dist-packages (from matplotlib>=3.3.4->bnlearn) (2.8.2)\n",
            "Requirement already satisfied: importlib-resources>=3.2.0 in /usr/local/lib/python3.9/dist-packages (from matplotlib>=3.3.4->bnlearn) (5.12.0)\n",
            "Requirement already satisfied: torch in /usr/local/lib/python3.9/dist-packages (from pgmpy>=0.1.18->bnlearn) (2.0.0+cu118)\n",
            "Requirement already satisfied: scipy in /usr/local/lib/python3.9/dist-packages (from pgmpy>=0.1.18->bnlearn) (1.10.1)\n",
            "Requirement already satisfied: joblib in /usr/local/lib/python3.9/dist-packages (from pgmpy>=0.1.18->bnlearn) (1.2.0)\n",
            "Requirement already satisfied: opt-einsum in /usr/local/lib/python3.9/dist-packages (from pgmpy>=0.1.18->bnlearn) (3.3.0)\n",
            "Requirement already satisfied: wget in /usr/local/lib/python3.9/dist-packages (from df2onehot->bnlearn) (3.2)\n",
            "Requirement already satisfied: jupyterlab-widgets>=1.0.0 in /usr/local/lib/python3.9/dist-packages (from ipywidgets->bnlearn) (3.0.7)\n",
            "Requirement already satisfied: widgetsnbextension~=3.6.0 in /usr/local/lib/python3.9/dist-packages (from ipywidgets->bnlearn) (3.6.4)\n",
            "Requirement already satisfied: ipython-genutils~=0.2.0 in /usr/local/lib/python3.9/dist-packages (from ipywidgets->bnlearn) (0.2.0)\n",
            "Requirement already satisfied: ipykernel>=4.5.1 in /usr/local/lib/python3.9/dist-packages (from ipywidgets->bnlearn) (5.5.6)\n",
            "Requirement already satisfied: ipython>=4.0.0 in /usr/local/lib/python3.9/dist-packages (from ipywidgets->bnlearn) (7.34.0)\n",
            "Requirement already satisfied: traitlets>=4.3.1 in /usr/local/lib/python3.9/dist-packages (from ipywidgets->bnlearn) (5.7.1)\n",
            "Requirement already satisfied: pytz>=2020.1 in /usr/local/lib/python3.9/dist-packages (from pandas->bnlearn) (2022.7.1)\n",
            "Requirement already satisfied: jinja2>=2.9.6 in /usr/local/lib/python3.9/dist-packages (from pyvis->bnlearn) (3.1.2)\n",
            "Requirement already satisfied: jsonpickle>=1.4.1 in /usr/local/lib/python3.9/dist-packages (from pyvis->bnlearn) (3.0.1)\n",
            "Requirement already satisfied: charset-normalizer~=2.0.0 in /usr/local/lib/python3.9/dist-packages (from requests->bnlearn) (2.0.12)\n",
            "Requirement already satisfied: idna<4,>=2.5 in /usr/local/lib/python3.9/dist-packages (from requests->bnlearn) (3.4)\n",
            "Requirement already satisfied: certifi>=2017.4.17 in /usr/local/lib/python3.9/dist-packages (from requests->bnlearn) (2022.12.7)\n",
            "Requirement already satisfied: urllib3<1.27,>=1.21.1 in /usr/local/lib/python3.9/dist-packages (from requests->bnlearn) (1.26.15)\n",
            "Requirement already satisfied: threadpoolctl>=2.0.0 in /usr/local/lib/python3.9/dist-packages (from scikit-learn->bnlearn) (3.1.0)\n",
            "Requirement already satisfied: patsy>=0.5.2 in /usr/local/lib/python3.9/dist-packages (from statsmodels->bnlearn) (0.5.3)\n",
            "Requirement already satisfied: zipp>=3.1.0 in /usr/local/lib/python3.9/dist-packages (from importlib-resources>=3.2.0->matplotlib>=3.3.4->bnlearn) (3.15.0)\n",
            "Requirement already satisfied: tornado>=4.2 in /usr/local/lib/python3.9/dist-packages (from ipykernel>=4.5.1->ipywidgets->bnlearn) (6.2)\n",
            "Requirement already satisfied: jupyter-client in /usr/local/lib/python3.9/dist-packages (from ipykernel>=4.5.1->ipywidgets->bnlearn) (6.1.12)\n",
            "Requirement already satisfied: decorator in /usr/local/lib/python3.9/dist-packages (from ipython>=4.0.0->ipywidgets->bnlearn) (4.4.2)\n",
            "Requirement already satisfied: backcall in /usr/local/lib/python3.9/dist-packages (from ipython>=4.0.0->ipywidgets->bnlearn) (0.2.0)\n",
            "Requirement already satisfied: pygments in /usr/local/lib/python3.9/dist-packages (from ipython>=4.0.0->ipywidgets->bnlearn) (2.14.0)\n",
            "Requirement already satisfied: pexpect>4.3 in /usr/local/lib/python3.9/dist-packages (from ipython>=4.0.0->ipywidgets->bnlearn) (4.8.0)\n",
            "Requirement already satisfied: matplotlib-inline in /usr/local/lib/python3.9/dist-packages (from ipython>=4.0.0->ipywidgets->bnlearn) (0.1.6)\n",
            "Requirement already satisfied: pickleshare in /usr/local/lib/python3.9/dist-packages (from ipython>=4.0.0->ipywidgets->bnlearn) (0.7.5)\n",
            "Requirement already satisfied: setuptools>=18.5 in /usr/local/lib/python3.9/dist-packages (from ipython>=4.0.0->ipywidgets->bnlearn) (67.6.1)\n",
            "Requirement already satisfied: prompt-toolkit!=3.0.0,!=3.0.1,<3.1.0,>=2.0.0 in /usr/local/lib/python3.9/dist-packages (from ipython>=4.0.0->ipywidgets->bnlearn) (3.0.38)\n",
            "Requirement already satisfied: jedi>=0.16 in /usr/local/lib/python3.9/dist-packages (from ipython>=4.0.0->ipywidgets->bnlearn) (0.18.2)\n",
            "Requirement already satisfied: MarkupSafe>=2.0 in /usr/local/lib/python3.9/dist-packages (from jinja2>=2.9.6->pyvis->bnlearn) (2.1.2)\n",
            "Requirement already satisfied: six in /usr/local/lib/python3.9/dist-packages (from patsy>=0.5.2->statsmodels->bnlearn) (1.16.0)\n",
            "Requirement already satisfied: notebook>=4.4.1 in /usr/local/lib/python3.9/dist-packages (from widgetsnbextension~=3.6.0->ipywidgets->bnlearn) (6.4.8)\n",
            "Requirement already satisfied: typing-extensions in /usr/local/lib/python3.9/dist-packages (from torch->pgmpy>=0.1.18->bnlearn) (4.5.0)\n",
            "Requirement already satisfied: triton==2.0.0 in /usr/local/lib/python3.9/dist-packages (from torch->pgmpy>=0.1.18->bnlearn) (2.0.0)\n",
            "Requirement already satisfied: sympy in /usr/local/lib/python3.9/dist-packages (from torch->pgmpy>=0.1.18->bnlearn) (1.11.1)\n",
            "Requirement already satisfied: filelock in /usr/local/lib/python3.9/dist-packages (from torch->pgmpy>=0.1.18->bnlearn) (3.11.0)\n",
            "Requirement already satisfied: cmake in /usr/local/lib/python3.9/dist-packages (from triton==2.0.0->torch->pgmpy>=0.1.18->bnlearn) (3.25.2)\n",
            "Requirement already satisfied: lit in /usr/local/lib/python3.9/dist-packages (from triton==2.0.0->torch->pgmpy>=0.1.18->bnlearn) (16.0.1)\n",
            "Requirement already satisfied: parso<0.9.0,>=0.8.0 in /usr/local/lib/python3.9/dist-packages (from jedi>=0.16->ipython>=4.0.0->ipywidgets->bnlearn) (0.8.3)\n",
            "Requirement already satisfied: terminado>=0.8.3 in /usr/local/lib/python3.9/dist-packages (from notebook>=4.4.1->widgetsnbextension~=3.6.0->ipywidgets->bnlearn) (0.17.1)\n",
            "Requirement already satisfied: prometheus-client in /usr/local/lib/python3.9/dist-packages (from notebook>=4.4.1->widgetsnbextension~=3.6.0->ipywidgets->bnlearn) (0.16.0)\n",
            "Requirement already satisfied: Send2Trash>=1.8.0 in /usr/local/lib/python3.9/dist-packages (from notebook>=4.4.1->widgetsnbextension~=3.6.0->ipywidgets->bnlearn) (1.8.0)\n",
            "Requirement already satisfied: jupyter-core>=4.6.1 in /usr/local/lib/python3.9/dist-packages (from notebook>=4.4.1->widgetsnbextension~=3.6.0->ipywidgets->bnlearn) (5.3.0)\n",
            "Requirement already satisfied: argon2-cffi in /usr/local/lib/python3.9/dist-packages (from notebook>=4.4.1->widgetsnbextension~=3.6.0->ipywidgets->bnlearn) (21.3.0)\n",
            "Requirement already satisfied: nbformat in /usr/local/lib/python3.9/dist-packages (from notebook>=4.4.1->widgetsnbextension~=3.6.0->ipywidgets->bnlearn) (5.8.0)\n",
            "Requirement already satisfied: nbconvert in /usr/local/lib/python3.9/dist-packages (from notebook>=4.4.1->widgetsnbextension~=3.6.0->ipywidgets->bnlearn) (6.5.4)\n",
            "Requirement already satisfied: nest-asyncio>=1.5 in /usr/local/lib/python3.9/dist-packages (from notebook>=4.4.1->widgetsnbextension~=3.6.0->ipywidgets->bnlearn) (1.5.6)\n",
            "Requirement already satisfied: pyzmq>=17 in /usr/local/lib/python3.9/dist-packages (from notebook>=4.4.1->widgetsnbextension~=3.6.0->ipywidgets->bnlearn) (23.2.1)\n",
            "Requirement already satisfied: ptyprocess>=0.5 in /usr/local/lib/python3.9/dist-packages (from pexpect>4.3->ipython>=4.0.0->ipywidgets->bnlearn) (0.7.0)\n",
            "Requirement already satisfied: wcwidth in /usr/local/lib/python3.9/dist-packages (from prompt-toolkit!=3.0.0,!=3.0.1,<3.1.0,>=2.0.0->ipython>=4.0.0->ipywidgets->bnlearn) (0.2.6)\n",
            "Requirement already satisfied: mpmath>=0.19 in /usr/local/lib/python3.9/dist-packages (from sympy->torch->pgmpy>=0.1.18->bnlearn) (1.3.0)\n",
            "Requirement already satisfied: platformdirs>=2.5 in /usr/local/lib/python3.9/dist-packages (from jupyter-core>=4.6.1->notebook>=4.4.1->widgetsnbextension~=3.6.0->ipywidgets->bnlearn) (3.2.0)\n",
            "Requirement already satisfied: argon2-cffi-bindings in /usr/local/lib/python3.9/dist-packages (from argon2-cffi->notebook>=4.4.1->widgetsnbextension~=3.6.0->ipywidgets->bnlearn) (21.2.0)\n",
            "Requirement already satisfied: defusedxml in /usr/local/lib/python3.9/dist-packages (from nbconvert->notebook>=4.4.1->widgetsnbextension~=3.6.0->ipywidgets->bnlearn) (0.7.1)\n",
            "Requirement already satisfied: pandocfilters>=1.4.1 in /usr/local/lib/python3.9/dist-packages (from nbconvert->notebook>=4.4.1->widgetsnbextension~=3.6.0->ipywidgets->bnlearn) (1.5.0)\n",
            "Requirement already satisfied: mistune<2,>=0.8.1 in /usr/local/lib/python3.9/dist-packages (from nbconvert->notebook>=4.4.1->widgetsnbextension~=3.6.0->ipywidgets->bnlearn) (0.8.4)\n",
            "Requirement already satisfied: jupyterlab-pygments in /usr/local/lib/python3.9/dist-packages (from nbconvert->notebook>=4.4.1->widgetsnbextension~=3.6.0->ipywidgets->bnlearn) (0.2.2)\n",
            "Requirement already satisfied: bleach in /usr/local/lib/python3.9/dist-packages (from nbconvert->notebook>=4.4.1->widgetsnbextension~=3.6.0->ipywidgets->bnlearn) (6.0.0)\n",
            "Requirement already satisfied: nbclient>=0.5.0 in /usr/local/lib/python3.9/dist-packages (from nbconvert->notebook>=4.4.1->widgetsnbextension~=3.6.0->ipywidgets->bnlearn) (0.7.3)\n",
            "Requirement already satisfied: tinycss2 in /usr/local/lib/python3.9/dist-packages (from nbconvert->notebook>=4.4.1->widgetsnbextension~=3.6.0->ipywidgets->bnlearn) (1.2.1)\n",
            "Requirement already satisfied: entrypoints>=0.2.2 in /usr/local/lib/python3.9/dist-packages (from nbconvert->notebook>=4.4.1->widgetsnbextension~=3.6.0->ipywidgets->bnlearn) (0.4)\n",
            "Requirement already satisfied: lxml in /usr/local/lib/python3.9/dist-packages (from nbconvert->notebook>=4.4.1->widgetsnbextension~=3.6.0->ipywidgets->bnlearn) (4.9.2)\n",
            "Requirement already satisfied: beautifulsoup4 in /usr/local/lib/python3.9/dist-packages (from nbconvert->notebook>=4.4.1->widgetsnbextension~=3.6.0->ipywidgets->bnlearn) (4.11.2)\n",
            "Requirement already satisfied: fastjsonschema in /usr/local/lib/python3.9/dist-packages (from nbformat->notebook>=4.4.1->widgetsnbextension~=3.6.0->ipywidgets->bnlearn) (2.16.3)\n",
            "Requirement already satisfied: jsonschema>=2.6 in /usr/local/lib/python3.9/dist-packages (from nbformat->notebook>=4.4.1->widgetsnbextension~=3.6.0->ipywidgets->bnlearn) (4.3.3)\n",
            "Requirement already satisfied: pyrsistent!=0.17.0,!=0.17.1,!=0.17.2,>=0.14.0 in /usr/local/lib/python3.9/dist-packages (from jsonschema>=2.6->nbformat->notebook>=4.4.1->widgetsnbextension~=3.6.0->ipywidgets->bnlearn) (0.19.3)\n",
            "Requirement already satisfied: attrs>=17.4.0 in /usr/local/lib/python3.9/dist-packages (from jsonschema>=2.6->nbformat->notebook>=4.4.1->widgetsnbextension~=3.6.0->ipywidgets->bnlearn) (23.1.0)\n",
            "Requirement already satisfied: cffi>=1.0.1 in /usr/local/lib/python3.9/dist-packages (from argon2-cffi-bindings->argon2-cffi->notebook>=4.4.1->widgetsnbextension~=3.6.0->ipywidgets->bnlearn) (1.15.1)\n",
            "Requirement already satisfied: soupsieve>1.2 in /usr/local/lib/python3.9/dist-packages (from beautifulsoup4->nbconvert->notebook>=4.4.1->widgetsnbextension~=3.6.0->ipywidgets->bnlearn) (2.4.1)\n",
            "Requirement already satisfied: webencodings in /usr/local/lib/python3.9/dist-packages (from bleach->nbconvert->notebook>=4.4.1->widgetsnbextension~=3.6.0->ipywidgets->bnlearn) (0.5.1)\n",
            "Requirement already satisfied: pycparser in /usr/local/lib/python3.9/dist-packages (from cffi>=1.0.1->argon2-cffi-bindings->argon2-cffi->notebook>=4.4.1->widgetsnbextension~=3.6.0->ipywidgets->bnlearn) (2.21)\n"
          ]
        }
      ],
      "source": [
        "! pip install bnlearn"
      ]
    },
    {
      "cell_type": "code",
      "source": [
        "cols = [\n",
        " 'EMPRSNOWK_A_4.0',\n",
        " 'MHTHND_A_1.0',\n",
        " 'SOCSCLPAR_A_4.0',\n",
        " 'DEPEV_A_1.0'\n",
        " ]"
      ],
      "metadata": {
        "id": "ATosTIMy8gPz"
      },
      "execution_count": 47,
      "outputs": []
    },
    {
      "cell_type": "code",
      "source": [
        "import tensorflow as tf\n",
        "import bnlearn as bn\n",
        "from tabulate import tabulate\n",
        "\n",
        "# df = bn.import_example()\n",
        "# As an example we set the CPD at False which returns an \"empty\" DAG\n",
        "# model = bn.import_DAG()\n",
        "# Now we learn the parameters of the DAG using the df\n",
        "DAG = bn.structure_learning.fit(total_df[cols], methodtype='ex')\n",
        "model = bn.independence_test(DAG, total_df[cols], alpha=0.05, prune=True)\n",
        "print(tabulate(model['independence_test'], tablefmt=\"grid\", headers=\"keys\"))\n",
        "G = bn.plot(DAG)\n",
        "bn.plot(model)\n"
      ],
      "metadata": {
        "colab": {
          "base_uri": "https://localhost:8080/",
          "height": 1000
        },
        "id": "LF16nWFXSpSX",
        "outputId": "f28faf8b-ed73-47cc-8c64-b4d07a35fe49"
      },
      "execution_count": 48,
      "outputs": [
        {
          "output_type": "stream",
          "name": "stdout",
          "text": [
            "[bnlearn] >Computing best DAG using [ex]\n",
            "[bnlearn] >Set scoring type at [bic]\n",
            "[bnlearn] >Compute structure scores ['k2', 'bds', 'bic', 'bdeu'] for model comparison (higher is better).\n",
            "[bnlearn] >Compute edge strength with [chi_square]\n",
            "+----+-----------------+-----------------+-------------+--------------+--------------+-------+\n",
            "|    | source          | target          | stat_test   |      p_value |   chi_square |   dof |\n",
            "+====+=================+=================+=============+==============+==============+=======+\n",
            "|  0 | DEPEV_A_1.0     | EMPRSNOWK_A_4.0 | True        | 9.77286e-110 |      495.349 |     1 |\n",
            "+----+-----------------+-----------------+-------------+--------------+--------------+-------+\n",
            "|  1 | DEPEV_A_1.0     | MHTHND_A_1.0    | True        | 1.64772e-116 |      526.479 |     1 |\n",
            "+----+-----------------+-----------------+-------------+--------------+--------------+-------+\n",
            "|  2 | EMPRSNOWK_A_4.0 | SOCSCLPAR_A_4.0 | True        | 2.63612e-47  |      208.702 |     1 |\n",
            "+----+-----------------+-----------------+-------------+--------------+--------------+-------+\n",
            "[bnlearn] >Set node properties.\n",
            "[bnlearn] >Set edge properties.\n",
            "[bnlearn] >Plot based on Bayesian model\n"
          ]
        },
        {
          "output_type": "display_data",
          "data": {
            "text/plain": [
              "<Figure size 1500x1000 with 1 Axes>"
            ],
            "image/png": "[encoded data removed]"
          },
          "metadata": {}
        },
        {
          "output_type": "stream",
          "name": "stdout",
          "text": [
            "[bnlearn] >Set node properties.\n",
            "[bnlearn]> Set edge weights based on the [chi_square] test statistic.\n",
            "[bnlearn] >Set edge properties.\n",
            "[bnlearn] >Plot based on Bayesian model\n"
          ]
        },
        {
          "output_type": "display_data",
          "data": {
            "text/plain": [
              "<Figure size 1500x1000 with 1 Axes>"
            ],
            "image/png": "[encoded data removed]"
          },
          "metadata": {}
        },
        {
          "output_type": "execute_result",
          "data": {
            "text/plain": [
              "{'fig': <Figure size 1500x1000 with 1 Axes>,\n",
              " 'ax': <Figure size 1500x1000 with 1 Axes>,\n",
              " 'pos': {'DEPEV_A_1.0': array([-0.19838878, -0.164579  ]),\n",
              "  'EMPRSNOWK_A_4.0': array([0.60697638, 0.16793476]),\n",
              "  'MHTHND_A_1.0': array([-1.        , -0.48986159]),\n",
              "  'SOCSCLPAR_A_4.0': array([0.59141241, 0.48650582])},\n",
              " 'G': <networkx.classes.digraph.DiGraph at 0x7f190109c400>,\n",
              " 'node_properties': {'DEPEV_A_1.0': {'node_color': '#1f456e',\n",
              "   'node_size': 800},\n",
              "  'EMPRSNOWK_A_4.0': {'node_color': '#1f456e', 'node_size': 800},\n",
              "  'MHTHND_A_1.0': {'node_color': '#1f456e', 'node_size': 800},\n",
              "  'SOCSCLPAR_A_4.0': {'node_color': '#1f456e', 'node_size': 800}},\n",
              " 'edge_properties': {('EMPRSNOWK_A_4.0',\n",
              "   'SOCSCLPAR_A_4.0'): {'color': '#000000', 'weight': 1.0},\n",
              "  ('DEPEV_A_1.0', 'EMPRSNOWK_A_4.0'): {'color': '#000000',\n",
              "   'weight': 9.119152357088282},\n",
              "  ('DEPEV_A_1.0', 'MHTHND_A_1.0'): {'color': '#000000', 'weight': 10.0}}}"
            ]
          },
          "metadata": {},
          "execution_count": 48
        }
      ]
    },
    {
      "cell_type": "markdown",
      "source": [
        "(IGNORE after this) Implementing LightGBM model"
      ],
      "metadata": {
        "id": "gumA-tXWG4IQ"
      }
    },
    {
      "cell_type": "code",
      "source": [
        "# Split into Train Test Dataset\n",
        "X = total_df.drop(['DEPEV_A_1.0','DEPEV_A_2.0'], axis=1)\n",
        "y = total_df['DEPEV_A_1.0']\n",
        "\n",
        "X_train, X_test, y_train, y_test = train_test_split(X, y, test_size=0.30)"
      ],
      "metadata": {
        "id": "vZB0B0HfGolG"
      },
      "execution_count": null,
      "outputs": []
    },
    {
      "cell_type": "markdown",
      "source": [
        "Check for class imbalance. Plot class distribution for Depression"
      ],
      "metadata": {
        "id": "pFSZolCNG8-f"
      }
    },
    {
      "cell_type": "code",
      "source": [
        "y_train.value_counts().plot(kind='bar')"
      ],
      "metadata": {
        "colab": {
          "base_uri": "https://localhost:8080/",
          "height": 456
        },
        "id": "6-DFSHuaSCLN",
        "outputId": "8e4e5330-88ab-419c-e842-ba92910e1bf8"
      },
      "execution_count": null,
      "outputs": [
        {
          "output_type": "execute_result",
          "data": {
            "text/plain": [
              "<Axes: >"
            ]
          },
          "metadata": {},
          "execution_count": 107
        },
        {
          "output_type": "display_data",
          "data": {
            "text/plain": [
              "<Figure size 640x480 with 1 Axes>"
            ],
            "image/png": "[encoded data removed]"
          },
          "metadata": {}
        }
      ]
    },
    {
      "cell_type": "markdown",
      "source": [
        "Compute class weights for training"
      ],
      "metadata": {
        "id": "FOA10zJHHFZs"
      }
    },
    {
      "cell_type": "code",
      "source": [
        "class_weights = class_weight.compute_class_weight(\n",
        "                                        class_weight = \"balanced\",\n",
        "                                        classes = np.unique(y_train),\n",
        "                                        y = y_train                                                   \n",
        "                                    )\n",
        "class_weights = dict(zip(np.unique(y_train), class_weights))\n",
        "print(class_weights)"
      ],
      "metadata": {
        "colab": {
          "base_uri": "https://localhost:8080/"
        },
        "id": "xSODTAcSGsxj",
        "outputId": "4335df65-58e1-4fd0-e6f3-c0f9f128856b"
      },
      "execution_count": null,
      "outputs": [
        {
          "output_type": "stream",
          "name": "stdout",
          "text": [
            "{0.0: 0.607601266877813, 1.0: 2.823392718822618}\n"
          ]
        }
      ]
    },
    {
      "cell_type": "code",
      "source": [
        "model = lgbm.LGBMClassifier(class_weight=class_weights)\n",
        "model.fit(X_train, y_train)"
      ],
      "metadata": {
        "colab": {
          "base_uri": "https://localhost:8080/",
          "height": 74
        },
        "id": "CTkzZGaB2Ux1",
        "outputId": "25727a86-537a-4b29-c6e8-53ee6f51bc83"
      },
      "execution_count": null,
      "outputs": [
        {
          "output_type": "execute_result",
          "data": {
            "text/plain": [
              "LGBMClassifier(class_weight={0.0: 0.607601266877813, 1.0: 2.823392718822618})"
            ],
            "text/html": [
              "<style>#sk-container-id-15 {color: black;background-color: white;}#sk-container-id-15 pre{padding: 0;}#sk-container-id-15 div.sk-toggleable {background-color: white;}#sk-container-id-15 label.sk-toggleable__label {cursor: pointer;display: block;width: 100%;margin-bottom: 0;padding: 0.3em;box-sizing: border-box;text-align: center;}#sk-container-id-15 label.sk-toggleable__label-arrow:before {content: \"▸\";float: left;margin-right: 0.25em;color: #696969;}#sk-container-id-15 label.sk-toggleable__label-arrow:hover:before {color: black;}#sk-container-id-15 div.sk-estimator:hover label.sk-toggleable__label-arrow:before {color: black;}#sk-container-id-15 div.sk-toggleable__content {max-height: 0;max-width: 0;overflow: hidden;text-align: left;background-color: #f0f8ff;}#sk-container-id-15 div.sk-toggleable__content pre {margin: 0.2em;color: black;border-radius: 0.25em;background-color: #f0f8ff;}#sk-container-id-15 input.sk-toggleable__control:checked~div.sk-toggleable__content {max-height: 200px;max-width: 100%;overflow: auto;}#sk-container-id-15 input.sk-toggleable__control:checked~label.sk-toggleable__label-arrow:before {content: \"▾\";}#sk-container-id-15 div.sk-estimator input.sk-toggleable__control:checked~label.sk-toggleable__label {background-color: #d4ebff;}#sk-container-id-15 div.sk-label input.sk-toggleable__control:checked~label.sk-toggleable__label {background-color: #d4ebff;}#sk-container-id-15 input.sk-hidden--visually {border: 0;clip: rect(1px 1px 1px 1px);clip: rect(1px, 1px, 1px, 1px);height: 1px;margin: -1px;overflow: hidden;padding: 0;position: absolute;width: 1px;}#sk-container-id-15 div.sk-estimator {font-family: monospace;background-color: #f0f8ff;border: 1px dotted black;border-radius: 0.25em;box-sizing: border-box;margin-bottom: 0.5em;}#sk-container-id-15 div.sk-estimator:hover {background-color: #d4ebff;}#sk-container-id-15 div.sk-parallel-item::after {content: \"\";width: 100%;border-bottom: 1px solid gray;flex-grow: 1;}#sk-container-id-15 div.sk-label:hover label.sk-toggleable__label {background-color: #d4ebff;}#sk-container-id-15 div.sk-serial::before {content: \"\";position: absolute;border-left: 1px solid gray;box-sizing: border-box;top: 0;bottom: 0;left: 50%;z-index: 0;}#sk-container-id-15 div.sk-serial {display: flex;flex-direction: column;align-items: center;background-color: white;padding-right: 0.2em;padding-left: 0.2em;position: relative;}#sk-container-id-15 div.sk-item {position: relative;z-index: 1;}#sk-container-id-15 div.sk-parallel {display: flex;align-items: stretch;justify-content: center;background-color: white;position: relative;}#sk-container-id-15 div.sk-item::before, #sk-container-id-15 div.sk-parallel-item::before {content: \"\";position: absolute;border-left: 1px solid gray;box-sizing: border-box;top: 0;bottom: 0;left: 50%;z-index: -1;}#sk-container-id-15 div.sk-parallel-item {display: flex;flex-direction: column;z-index: 1;position: relative;background-color: white;}#sk-container-id-15 div.sk-parallel-item:first-child::after {align-self: flex-end;width: 50%;}#sk-container-id-15 div.sk-parallel-item:last-child::after {align-self: flex-start;width: 50%;}#sk-container-id-15 div.sk-parallel-item:only-child::after {width: 0;}#sk-container-id-15 div.sk-dashed-wrapped {border: 1px dashed gray;margin: 0 0.4em 0.5em 0.4em;box-sizing: border-box;padding-bottom: 0.4em;background-color: white;}#sk-container-id-15 div.sk-label label {font-family: monospace;font-weight: bold;display: inline-block;line-height: 1.2em;}#sk-container-id-15 div.sk-label-container {text-align: center;}#sk-container-id-15 div.sk-container {/* jupyter's `normalize.less` sets `[hidden] { display: none; }` but bootstrap.min.css set `[hidden] { display: none !important; }` so we also need the `!important` here to be able to override the default hidden behavior on the sphinx rendered scikit-learn.org. See: https://github.com/scikit-learn/scikit-learn/issues/21755 */display: inline-block !important;position: relative;}#sk-container-id-15 div.sk-text-repr-fallback {display: none;}</style><div id=\"sk-container-id-15\" class=\"sk-top-container\"><div class=\"sk-text-repr-fallback\"><pre>LGBMClassifier(class_weight={0.0: 0.607601266877813, 1.0: 2.823392718822618})</pre><b>In a Jupyter environment, please rerun this cell to show the HTML representation or trust the notebook. <br />On GitHub, the HTML representation is unable to render, please try loading this page with nbviewer.org.</b></div><div class=\"sk-container\" hidden><div class=\"sk-item\"><div class=\"sk-estimator sk-toggleable\"><input class=\"sk-toggleable__control sk-hidden--visually\" id=\"sk-estimator-id-15\" type=\"checkbox\" checked><label for=\"sk-estimator-id-15\" class=\"sk-toggleable__label sk-toggleable__label-arrow\">LGBMClassifier</label><div class=\"sk-toggleable__content\"><pre>LGBMClassifier(class_weight={0.0: 0.607601266877813, 1.0: 2.823392718822618})</pre></div></div></div></div></div>"
            ]
          },
          "metadata": {},
          "execution_count": 226
        }
      ]
    },
    {
      "cell_type": "code",
      "source": [
        "y_pred = model.predict(X_test)\n",
        "print(\"F1 Score:\",f1_score(y_test, y_pred, average='macro'))\n",
        "print(\"Recall:\",recall_score(y_test, y_pred, average='macro'))"
      ],
      "metadata": {
        "colab": {
          "base_uri": "https://localhost:8080/"
        },
        "id": "IJNt212vHvEM",
        "outputId": "25111aef-ec82-4fc0-8e8d-7a0862a34602"
      },
      "execution_count": null,
      "outputs": [
        {
          "output_type": "stream",
          "name": "stdout",
          "text": [
            "F1 Score: 0.843498972351652\n",
            "Recall: 0.8574287388416877\n"
          ]
        }
      ]
    },
    {
      "cell_type": "code",
      "source": [
        "print(classification_report(y_test, y_pred))"
      ],
      "metadata": {
        "colab": {
          "base_uri": "https://localhost:8080/"
        },
        "id": "nQy7eBvdNr_s",
        "outputId": "760c5ca1-cbe9-42bb-f80b-8adb26bb1da4"
      },
      "execution_count": null,
      "outputs": [
        {
          "output_type": "stream",
          "name": "stdout",
          "text": [
            "              precision    recall  f1-score   support\n",
            "\n",
            "         0.0       0.95      0.93      0.94      2563\n",
            "         1.0       0.71      0.78      0.75       562\n",
            "\n",
            "    accuracy                           0.90      3125\n",
            "   macro avg       0.83      0.86      0.84      3125\n",
            "weighted avg       0.91      0.90      0.91      3125\n",
            "\n"
          ]
        }
      ]
    },
    {
      "cell_type": "code",
      "source": [
        "titles_options = [\n",
        "    (\"Confusion matrix, without normalization\", None)\n",
        "]\n",
        "for title, normalize in titles_options:\n",
        "    disp = ConfusionMatrixDisplay.from_estimator(\n",
        "        model,\n",
        "        X_test,\n",
        "        y_test,\n",
        "        cmap=plt.cm.Blues,\n",
        "        normalize=normalize,\n",
        "    )\n",
        "    disp.ax_.set_title(title)\n",
        "\n",
        "    print(title)\n",
        "    print(disp.confusion_matrix)\n",
        "\n",
        "plt.show()"
      ],
      "metadata": {
        "colab": {
          "base_uri": "https://localhost:8080/",
          "height": 526
        },
        "id": "PwY90j55J8v6",
        "outputId": "00a66961-937c-4224-c0c9-8e573de41070"
      },
      "execution_count": null,
      "outputs": [
        {
          "output_type": "stream",
          "name": "stdout",
          "text": [
            "Confusion matrix, without normalization\n",
            "[[2384  179]\n",
            " [ 121  441]]\n"
          ]
        },
        {
          "output_type": "display_data",
          "data": {
            "text/plain": [
              "<Figure size 640x480 with 2 Axes>"
            ],
            "image/png": "[encoded data removed]"
          },
          "metadata": {}
        }
      ]
    },
    {
      "cell_type": "markdown",
      "source": [
        "Importance type = Gain. The average training loss reduction gained when using a feature for splitting."
      ],
      "metadata": {
        "id": "AXNJk04562aY"
      }
    },
    {
      "cell_type": "code",
      "source": [
        "# importance = model.feature_importances_\n",
        "importance = model.booster_.feature_importance(importance_type='gain')\n",
        "imp_cols = ['DEPEV_A_1.0']\n",
        "for i,v in enumerate(importance):\n",
        "  if v>500:\n",
        "    imp_cols.append(X_train.columns[i])\n",
        "    print('Feature: %0d, Score: %.5f %s' % (i,v, X_train.columns[i]))\n",
        "# plot feature importance\n",
        "plt.bar([x for x in range(len(importance))], importance)\n",
        "plt.show()"
      ],
      "metadata": {
        "colab": {
          "base_uri": "https://localhost:8080/",
          "height": 575
        },
        "id": "zC5r5HHKVCVR",
        "outputId": "acbc5ea8-0ec2-4589-e645-a891e7bf95f0"
      },
      "execution_count": null,
      "outputs": [
        {
          "output_type": "stream",
          "name": "stdout",
          "text": [
            "Feature: 13, Score: 547.36527 JNTPN_A\n",
            "Feature: 171, Score: 516.86347 PHQ84_A_1.0\n",
            "Feature: 259, Score: 4063.15857 DEPMED_A_1.0\n",
            "Feature: 422, Score: 633.23551 ANXEV_A_1.0\n",
            "Feature: 423, Score: 5340.94321 ANXEV_A_2.0\n",
            "Feature: 468, Score: 13606.23035 MHRX_A_2.0\n",
            "Feature: 521, Score: 730.63038 PHQ82_A_1.0\n",
            "Feature: 1287, Score: 3989.02920 DEPFREQ_A_5.0\n"
          ]
        },
        {
          "output_type": "display_data",
          "data": {
            "text/plain": [
              "<Figure size 640x480 with 1 Axes>"
            ],
            "image/png": "[encoded data removed]"
          },
          "metadata": {}
        }
      ]
    }
  ],
  "metadata": {
    "colab": {
      "provenance": []
    },
    "gpuClass": "standard",
    "kernelspec": {
      "display_name": "Python 3",
      "name": "python3"
    },
    "language_info": {
      "name": "python"
    }
  },
  "nbformat": 4,
  "nbformat_minor": 0
}